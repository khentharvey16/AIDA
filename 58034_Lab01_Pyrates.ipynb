{
  "nbformat": 4,
  "nbformat_minor": 0,
  "metadata": {
    "colab": {
      "name": "58034_Lab01_Pyrates",
      "provenance": [],
      "collapsed_sections": [],
      "include_colab_link": true
    },
    "kernelspec": {
      "name": "python3",
      "display_name": "Python 3"
    },
    "language_info": {
      "name": "python"
    }
  },
  "cells": [
    {
      "cell_type": "markdown",
      "metadata": {
        "id": "view-in-github",
        "colab_type": "text"
      },
      "source": [
        "<a href=\"https://colab.research.google.com/github/khentharvey16/AIDA/blob/main/58034_Lab01_Pyrates.ipynb\" target=\"_parent\"><img src=\"https://colab.research.google.com/assets/colab-badge.svg\" alt=\"Open In Colab\"/></a>"
      ]
    },
    {
      "cell_type": "markdown",
      "metadata": {
        "id": "Ob49EcB9H7h2"
      },
      "source": [
        "# Topic 01: Software Engineering Concepts Review\n",
        "$_{\\text{©D.J. Lopez | 2021 | Fudamentals of Machine Learning}}$\n",
        "\n",
        "Data Science or Machine Learning is more than math or business application. It is also important to remember that AI, ML, or DS are being integrated into industry and companies for product delivery. So it is important to keep code clean, manage your files properly, and also assure readability for your projects and their codes.\n",
        "This module is dedicated to reviewing the concepts of software engineering and integrating their concepts in Machine Learning programming. For this notebook we will be covering:\n",
        "* Modular Programming\n",
        "* Object-oriented Programming Concepts\n",
        "* Documentation\n",
        "* Version Control\t\n"
      ]
    },
    {
      "cell_type": "markdown",
      "metadata": {
        "id": "7t8h1u-2KPlN"
      },
      "source": [
        "# 1. Modular Programming\n",
        "Creating readable and understandable code is needed in the industry or any project that you might do. It does not just benefit yourself in understanding your code or project but also other teams, users, and even future researchers. In this module, we are going to discuss how to format your projects and codes for readability and understandability. One of the techniques to achieve this is through modular programming.\n",
        "\n",
        "The idea of modular programming is to make your code granular for reusability. It does not only makes your code simpler but also optimal. The goal of making your code more efficient does not only look into visual representation but also its optimization.\n"
      ]
    },
    {
      "cell_type": "markdown",
      "metadata": {
        "id": "qnV_a_1ossnR"
      },
      "source": [
        "## 1.1 Refactoring\n",
        "\n",
        "Refactoring your code means restructuring your code without changing the expected output. We consider code refactoring while optimizing our code in terms of naming or even in optimizing methods. The first activity of refactoring that we will do or consider is renaming and the other is \"functionizing\" your code. "
      ]
    },
    {
      "cell_type": "markdown",
      "metadata": {
        "id": "9byGZ0_WsyTg"
      },
      "source": [
        "### *Renaming*"
      ]
    },
    {
      "cell_type": "markdown",
      "metadata": {
        "id": "TsyGtv7wtGJp"
      },
      "source": [
        "You might think discussing this topic must be pointless or too simplistic but it is actually one of the most frequent mistakes that data scientists, professors, or researchers usually do. Naming variables and functions properly will bring clarity to understanding the code."
      ]
    },
    {
      "cell_type": "code",
      "metadata": {
        "id": "AzqU8FaqtFQI"
      },
      "source": [
        "'''\n",
        "    CASE 1: Setting the class grades.\n",
        "\n",
        "    The case for this section would be computing for the grades of a \n",
        "    certain class. For the next cells will be looking in how can we create a \n",
        "    class analytics implementation.\n",
        "'''\n",
        "### Example of bad naming in module import nicknames.\n",
        "### Nicknames should be short and still relevant to the module.\n",
        "\n",
        "# import pandas as food_panda \n",
        "## bad, since not representative and long\n",
        "#import pandas as nd \n",
        "##bad, although short it is not representative\n",
        "import pandas as pd \n",
        "##good, aside form community acceptance it is short and representative\n",
        "\n",
        "ln = [\"Ingles\", \"Español\", \"Cruz\", \"Jones\"]\n",
        "# bad, since \"ln\" is ambiguous.\n",
        "\n",
        "names = [\"Ingles\", \"Español\", \"Cruz\", \"Jones\"] \n",
        "# good, since descriptive\n",
        "\n",
        "lnames = [\"Ingles\", \"Español\", \"Cruz\", \"Jones\"]\n",
        "# better, more specific that itis about last names\n",
        "\n",
        "last_names_of_the_class = [\"Ingles\", \"Español\", \"Cruz\", \"Jones\"] \n",
        "# bad, too long\n"
      ],
      "execution_count": null,
      "outputs": []
    },
    {
      "cell_type": "markdown",
      "metadata": {
        "id": "w9_g4Wq4RXgi"
      },
      "source": [
        "### Task 1: Setting the Class Grades\n",
        "1. Create variable declarations for:\n",
        "        - Last Names\n",
        "        - First Names\n",
        "        - Grades for Prelims\n",
        "        - Grades for Midterms\n",
        "        - Grades for Finals \n",
        "2. Create a DataFrame (Pandas) for consolidating the data from Task 1.1"
      ]
    },
    {
      "cell_type": "code",
      "metadata": {
        "id": "-grA0uH6yuwl",
        "colab": {
          "base_uri": "https://localhost:8080/",
          "height": 173
        },
        "outputId": "2f1c156e-e022-404e-aefd-63a8703d54c1"
      },
      "source": [
        "import pandas as pd\n",
        "student_num = [201811454, 201811675, 201811345,201811145]\n",
        "lnames = [\"David\", \"De Guzman\", \"Gamban\", \"Lachica\"]\n",
        "fnames = [\"Ed\", \"Karl\", \"Lino\", \"Khent\"]\n",
        "p_grades = [80.5, 87.4, 90.1, 87.4]\n",
        "m_grades = [86.8, 83.2, 87.8, 83.2]\n",
        "f_grades = [90.2, 90.2, 92.1, 90.2]\n",
        "\n",
        "class_grades = {\"student_number\":student_num, \"last_name\": lnames, \"first_name\": fnames, \"prelim_grade\":p_grades, \"midterm_grade\": m_grades, \"final_grade\": f_grades}\n",
        "class_grades_df = pd.DataFrame(class_grades)\n",
        "class_grades_df"
      ],
      "execution_count": null,
      "outputs": [
        {
          "output_type": "execute_result",
          "data": {
            "text/html": [
              "<div>\n",
              "<style scoped>\n",
              "    .dataframe tbody tr th:only-of-type {\n",
              "        vertical-align: middle;\n",
              "    }\n",
              "\n",
              "    .dataframe tbody tr th {\n",
              "        vertical-align: top;\n",
              "    }\n",
              "\n",
              "    .dataframe thead th {\n",
              "        text-align: right;\n",
              "    }\n",
              "</style>\n",
              "<table border=\"1\" class=\"dataframe\">\n",
              "  <thead>\n",
              "    <tr style=\"text-align: right;\">\n",
              "      <th></th>\n",
              "      <th>student_number</th>\n",
              "      <th>last_name</th>\n",
              "      <th>first_name</th>\n",
              "      <th>prelim_grade</th>\n",
              "      <th>midterm_grade</th>\n",
              "      <th>final_grade</th>\n",
              "    </tr>\n",
              "  </thead>\n",
              "  <tbody>\n",
              "    <tr>\n",
              "      <th>0</th>\n",
              "      <td>201811454</td>\n",
              "      <td>David</td>\n",
              "      <td>Ed</td>\n",
              "      <td>80.5</td>\n",
              "      <td>86.8</td>\n",
              "      <td>90.2</td>\n",
              "    </tr>\n",
              "    <tr>\n",
              "      <th>1</th>\n",
              "      <td>201811675</td>\n",
              "      <td>De Guzman</td>\n",
              "      <td>Karl</td>\n",
              "      <td>87.4</td>\n",
              "      <td>83.2</td>\n",
              "      <td>90.2</td>\n",
              "    </tr>\n",
              "    <tr>\n",
              "      <th>2</th>\n",
              "      <td>201811345</td>\n",
              "      <td>Gamban</td>\n",
              "      <td>Lino</td>\n",
              "      <td>90.1</td>\n",
              "      <td>87.8</td>\n",
              "      <td>92.1</td>\n",
              "    </tr>\n",
              "    <tr>\n",
              "      <th>3</th>\n",
              "      <td>201811145</td>\n",
              "      <td>Lachica</td>\n",
              "      <td>Khent</td>\n",
              "      <td>87.4</td>\n",
              "      <td>83.2</td>\n",
              "      <td>90.2</td>\n",
              "    </tr>\n",
              "  </tbody>\n",
              "</table>\n",
              "</div>"
            ],
            "text/plain": [
              "   student_number  last_name  ... midterm_grade  final_grade\n",
              "0       201811454      David  ...          86.8         90.2\n",
              "1       201811675  De Guzman  ...          83.2         90.2\n",
              "2       201811345     Gamban  ...          87.8         92.1\n",
              "3       201811145    Lachica  ...          83.2         90.2\n",
              "\n",
              "[4 rows x 6 columns]"
            ]
          },
          "metadata": {},
          "execution_count": 182
        }
      ]
    },
    {
      "cell_type": "markdown",
      "metadata": {
        "id": "0pr8y4LUs2Vg"
      },
      "source": [
        "### *Code Reusability*\n",
        "\n",
        "Just like in any writing we want to reduce redundancies in our content. Just like following the rules of brevity we also consider that in creating cleaner code. One way of applying brevity to code is code reusability wherein you refrain from creating code that you repeat in encoding. This is where the use of functions will be most used. Consider the following code below."
      ]
    },
    {
      "cell_type": "code",
      "metadata": {
        "id": "mC9I6ZnhAKNC",
        "colab": {
          "base_uri": "https://localhost:8080/"
        },
        "outputId": "9fdf6e28-20b6-4dea-fd1d-045bfce23651"
      },
      "source": [
        "'''\n",
        "    CASE 2: Computing grades.\n",
        "\n",
        "    For this cell we are going to look into creating functions for the class.\n",
        "    This includes computing for their grades and some classroom management\n",
        "    routines.\n",
        "'''\n",
        "### Consider this procedural programming script\n",
        "gs_1 = [89.4, 78.2, 88.0, 28.5, 67.3]\n",
        "# Get average grades of the class\n",
        "class_g = 0\n",
        "for g in gs_1:\n",
        "  class_g += g\n",
        "cmean = class_g/len(gs_1)\n",
        "print(cmean)"
      ],
      "execution_count": null,
      "outputs": [
        {
          "output_type": "stream",
          "name": "stdout",
          "text": [
            "70.28\n"
          ]
        }
      ]
    },
    {
      "cell_type": "code",
      "metadata": {
        "colab": {
          "base_uri": "https://localhost:8080/"
        },
        "id": "_SSjhGSM-iLM",
        "outputId": "07fbed6b-97ad-4b72-e641-6c96b280a610"
      },
      "source": [
        "### Now let's say you want to reuse the code above for a different class\n",
        "### you might just copy and paste in like the code below and change some \n",
        "### variable naming\n",
        "\n",
        "gs_2 = [99.4, 64.5, 87.2, 68.5, 57.]\n",
        "# Get average grades of the class\n",
        "class_g = 0\n",
        "for g in gs_2:\n",
        "  class_g += g\n",
        "cmean = class_g/len(gs_2)\n",
        "print(cmean)"
      ],
      "execution_count": null,
      "outputs": [
        {
          "output_type": "stream",
          "name": "stdout",
          "text": [
            "75.32000000000001\n"
          ]
        }
      ]
    },
    {
      "cell_type": "code",
      "metadata": {
        "id": "zsfe5hrl-5Dj"
      },
      "source": [
        "### That works but if you keep doing that for production, it would just look\n",
        "### like spaghetti code. Instead, if you are repeating code, consider creating\n",
        "### a function.\n",
        "\n",
        "def average(grades):\n",
        "  grades_class = 0\n",
        "  for g in grades:\n",
        "    grades_class += g\n",
        "  avg = grades_class/len(grades)\n",
        "  return avg\n"
      ],
      "execution_count": null,
      "outputs": []
    },
    {
      "cell_type": "code",
      "metadata": {
        "id": "cM06F8qkAkwz"
      },
      "source": [
        "### The code above would be reusable but it is not easy to read. We need to \n",
        "### enforce the code refactoring for renaming not just the variables but also\n",
        "### the functions we are creating. So if we would refactor the 'average' \n",
        "### Function earlier it could be:\n",
        "\n",
        "def get_class_ave(arr):\n",
        "  class_grades = 0\n",
        "  for grade in arr:\n",
        "    class_grades += grade\n",
        "  class_avg = class_grades/len(arr)\n",
        "  return class_avg"
      ],
      "execution_count": null,
      "outputs": []
    },
    {
      "cell_type": "markdown",
      "metadata": {
        "id": "QZWa_LNqRVOJ"
      },
      "source": [
        "### Task 2: Getting Class Statistics\n",
        "1. Create a function named `get_grades()` for computing the semestral grade of each student:\n",
        "\n",
        "  `inputs`: `DataFrame` of a class grade sheet.\n",
        "  \n",
        "  `outpus`: `DataFrame` showing:\n",
        "  * The prelim, midterms, and finals grades of each student\n",
        "  * The semestral grade of each student\n",
        "\n",
        "2. Create a function named `get_class_stats()`.\n",
        "  \n",
        "  `inputs`: `DataFrame` from `get_grades()`.\n",
        "  \n",
        "  `outpus`: `DataFrame` showing:\n",
        "  * The lowest and highest prelim, midterm, finals, and semestral grades\n",
        "  * the mean, median, mode, and standard deviation of the grades\n"
      ]
    },
    {
      "cell_type": "code",
      "metadata": {
        "id": "ojkhKE-Ux5W_"
      },
      "source": [
        "def get_grades(grade_sheet):\n",
        "  for i in class_grades_df[\"last_name\"]:\n",
        "    grade_sheet[\"semestral_grade\"] = grade_sheet[\"prelim_grade\"] * 0.3 + grade_sheet[\"midterm_grade\"] * 0.3 + grade_sheet[\"final_grade\"] * 0.4\n",
        "    return grade_sheet"
      ],
      "execution_count": null,
      "outputs": []
    },
    {
      "cell_type": "code",
      "metadata": {
        "colab": {
          "base_uri": "https://localhost:8080/",
          "height": 173
        },
        "id": "kqNwEfr6rDTm",
        "outputId": "bca7cbc8-f9b2-42c0-9e87-04d52ecbd32b"
      },
      "source": [
        "get_grades(class_grades_df)"
      ],
      "execution_count": null,
      "outputs": [
        {
          "output_type": "execute_result",
          "data": {
            "text/html": [
              "<div>\n",
              "<style scoped>\n",
              "    .dataframe tbody tr th:only-of-type {\n",
              "        vertical-align: middle;\n",
              "    }\n",
              "\n",
              "    .dataframe tbody tr th {\n",
              "        vertical-align: top;\n",
              "    }\n",
              "\n",
              "    .dataframe thead th {\n",
              "        text-align: right;\n",
              "    }\n",
              "</style>\n",
              "<table border=\"1\" class=\"dataframe\">\n",
              "  <thead>\n",
              "    <tr style=\"text-align: right;\">\n",
              "      <th></th>\n",
              "      <th>student_number</th>\n",
              "      <th>last_name</th>\n",
              "      <th>first_name</th>\n",
              "      <th>prelim_grade</th>\n",
              "      <th>midterm_grade</th>\n",
              "      <th>final_grade</th>\n",
              "      <th>semestral_grade</th>\n",
              "    </tr>\n",
              "  </thead>\n",
              "  <tbody>\n",
              "    <tr>\n",
              "      <th>0</th>\n",
              "      <td>201811454</td>\n",
              "      <td>David</td>\n",
              "      <td>Ed</td>\n",
              "      <td>80.5</td>\n",
              "      <td>86.8</td>\n",
              "      <td>90.2</td>\n",
              "      <td>86.27</td>\n",
              "    </tr>\n",
              "    <tr>\n",
              "      <th>1</th>\n",
              "      <td>201811675</td>\n",
              "      <td>De Guzman</td>\n",
              "      <td>Karl</td>\n",
              "      <td>87.4</td>\n",
              "      <td>83.2</td>\n",
              "      <td>90.2</td>\n",
              "      <td>87.26</td>\n",
              "    </tr>\n",
              "    <tr>\n",
              "      <th>2</th>\n",
              "      <td>201811345</td>\n",
              "      <td>Gamban</td>\n",
              "      <td>Lino</td>\n",
              "      <td>90.1</td>\n",
              "      <td>87.8</td>\n",
              "      <td>92.1</td>\n",
              "      <td>90.21</td>\n",
              "    </tr>\n",
              "    <tr>\n",
              "      <th>3</th>\n",
              "      <td>201811145</td>\n",
              "      <td>Lachica</td>\n",
              "      <td>Khent</td>\n",
              "      <td>87.4</td>\n",
              "      <td>83.2</td>\n",
              "      <td>90.2</td>\n",
              "      <td>87.26</td>\n",
              "    </tr>\n",
              "  </tbody>\n",
              "</table>\n",
              "</div>"
            ],
            "text/plain": [
              "   student_number  last_name  ... final_grade  semestral_grade\n",
              "0       201811454      David  ...        90.2            86.27\n",
              "1       201811675  De Guzman  ...        90.2            87.26\n",
              "2       201811345     Gamban  ...        92.1            90.21\n",
              "3       201811145    Lachica  ...        90.2            87.26\n",
              "\n",
              "[4 rows x 7 columns]"
            ]
          },
          "metadata": {},
          "execution_count": 184
        }
      ]
    },
    {
      "cell_type": "code",
      "metadata": {
        "id": "gdmQvrG4tbCy"
      },
      "source": [
        "def get_class_stats(grade_sheet):\n",
        "\n",
        "  lowest_grades = grade_sheet[[\"prelim_grade\", \"midterm_grade\", \"final_grade\", \"semestral_grade\"]].min()\n",
        "  highest_grades = grade_sheet[[\"prelim_grade\", \"midterm_grade\", \"final_grade\", \"semestral_grade\"]].max()\n",
        "  mean_grades = grade_sheet[[\"prelim_grade\", \"midterm_grade\", \"final_grade\", \"semestral_grade\"]].mean()\n",
        "  median_grades = grade_sheet[[\"prelim_grade\", \"midterm_grade\", \"final_grade\", \"semestral_grade\"]].median()\n",
        "  std_grade = grade_sheet[[\"prelim_grade\", \"midterm_grade\", \"final_grade\", \"semestral_grade\"]].std()\n",
        "\n",
        "  class_stat_df = {\"lowest_grade\": lowest_grades, \"highest_grade\": highest_grades, \"mean_grade\": mean_grades,\"median_grade\": median_grades, \"standard_deviation\": std_grade }\n",
        "  return pd.DataFrame(class_stat_df)"
      ],
      "execution_count": null,
      "outputs": []
    },
    {
      "cell_type": "code",
      "metadata": {
        "colab": {
          "base_uri": "https://localhost:8080/",
          "height": 173
        },
        "id": "FKBN63jst1zp",
        "outputId": "c7aabd9d-8c7f-4789-96ab-699d74db8e4b"
      },
      "source": [
        "get_class_stats(class_grades_df)"
      ],
      "execution_count": null,
      "outputs": [
        {
          "output_type": "execute_result",
          "data": {
            "text/html": [
              "<div>\n",
              "<style scoped>\n",
              "    .dataframe tbody tr th:only-of-type {\n",
              "        vertical-align: middle;\n",
              "    }\n",
              "\n",
              "    .dataframe tbody tr th {\n",
              "        vertical-align: top;\n",
              "    }\n",
              "\n",
              "    .dataframe thead th {\n",
              "        text-align: right;\n",
              "    }\n",
              "</style>\n",
              "<table border=\"1\" class=\"dataframe\">\n",
              "  <thead>\n",
              "    <tr style=\"text-align: right;\">\n",
              "      <th></th>\n",
              "      <th>lowest_grade</th>\n",
              "      <th>highest_grade</th>\n",
              "      <th>mean_grade</th>\n",
              "      <th>median_grade</th>\n",
              "      <th>standard_deviation</th>\n",
              "    </tr>\n",
              "  </thead>\n",
              "  <tbody>\n",
              "    <tr>\n",
              "      <th>prelim_grade</th>\n",
              "      <td>80.50</td>\n",
              "      <td>90.10</td>\n",
              "      <td>86.350</td>\n",
              "      <td>87.40</td>\n",
              "      <td>4.102438</td>\n",
              "    </tr>\n",
              "    <tr>\n",
              "      <th>midterm_grade</th>\n",
              "      <td>83.20</td>\n",
              "      <td>87.80</td>\n",
              "      <td>85.250</td>\n",
              "      <td>85.00</td>\n",
              "      <td>2.402082</td>\n",
              "    </tr>\n",
              "    <tr>\n",
              "      <th>final_grade</th>\n",
              "      <td>90.20</td>\n",
              "      <td>92.10</td>\n",
              "      <td>90.675</td>\n",
              "      <td>90.20</td>\n",
              "      <td>0.950000</td>\n",
              "    </tr>\n",
              "    <tr>\n",
              "      <th>semestral_grade</th>\n",
              "      <td>86.27</td>\n",
              "      <td>90.21</td>\n",
              "      <td>87.750</td>\n",
              "      <td>87.26</td>\n",
              "      <td>1.705110</td>\n",
              "    </tr>\n",
              "  </tbody>\n",
              "</table>\n",
              "</div>"
            ],
            "text/plain": [
              "                 lowest_grade  highest_grade  ...  median_grade  standard_deviation\n",
              "prelim_grade            80.50          90.10  ...         87.40            4.102438\n",
              "midterm_grade           83.20          87.80  ...         85.00            2.402082\n",
              "final_grade             90.20          92.10  ...         90.20            0.950000\n",
              "semestral_grade         86.27          90.21  ...         87.26            1.705110\n",
              "\n",
              "[4 rows x 5 columns]"
            ]
          },
          "metadata": {},
          "execution_count": 186
        }
      ]
    },
    {
      "cell_type": "markdown",
      "metadata": {
        "id": "NCPH2Iy_s6Ox"
      },
      "source": [
        "## 1.2 Code Optimization\n",
        "\n",
        "When we consider your code to be part of production or for customer delivery we must consider that they are not laggy nor too space-consuming for devices. This is a common practice in data science and machine learning wherein training algorithms take up resources from computers or considering the space a model consumes at your workspace or your customer’s device."
      ]
    },
    {
      "cell_type": "markdown",
      "metadata": {
        "id": "IfNVUwU5tApZ"
      },
      "source": [
        "### *Space Complexity*\n",
        "\n",
        "This would specifically refer to your choice of data structures. This is a job for reviewing data structures and algorithms for space complexity. Although in Python for AI we are looking into more data structures like matrices and data frames."
      ]
    },
    {
      "cell_type": "code",
      "metadata": {
        "id": "viiNhOeaKv8V"
      },
      "source": [
        "'''\n",
        "    CASE 3: Class management.\n",
        "\n",
        "    For this cell we are going to look into optimizing functions for the class.\n",
        "    This includes finding unique data and similar data amnong class materials.\n",
        "'''\n",
        "## The following code will optimize how to efficiently store data into memory\n",
        "enrollees_2016_2020 = ['15022', '18302', '8845', '9203', '10035']\n",
        "enrollees_2016_2020 = [15022, 18302, 8845, 9203, 10035]"
      ],
      "execution_count": null,
      "outputs": []
    },
    {
      "cell_type": "code",
      "metadata": {
        "colab": {
          "base_uri": "https://localhost:8080/"
        },
        "id": "_qU1hQQKDbZj",
        "outputId": "be609f90-a43f-45cc-8992-61d667b43f73"
      },
      "source": [
        "img1 = [[125.4543, 254.0001], [64.2132, 84.5336]]\n",
        "img1"
      ],
      "execution_count": null,
      "outputs": [
        {
          "output_type": "execute_result",
          "data": {
            "text/plain": [
              "[[125.4543, 254.0001], [64.2132, 84.5336]]"
            ]
          },
          "metadata": {},
          "execution_count": 41
        }
      ]
    },
    {
      "cell_type": "code",
      "metadata": {
        "colab": {
          "base_uri": "https://localhost:8080/"
        },
        "id": "JV2hWEmcEMyw",
        "outputId": "3aeb12ba-928a-4186-eb03-e1b2ae89a8fe"
      },
      "source": [
        "import numpy as np\n",
        "img1_vector = np.array(img1)\n",
        "img1_vector"
      ],
      "execution_count": null,
      "outputs": [
        {
          "output_type": "execute_result",
          "data": {
            "text/plain": [
              "array([[125.4543, 254.0001],\n",
              "       [ 64.2132,  84.5336]])"
            ]
          },
          "metadata": {},
          "execution_count": 42
        }
      ]
    },
    {
      "cell_type": "code",
      "metadata": {
        "colab": {
          "base_uri": "https://localhost:8080/"
        },
        "id": "8b4cIeOgERdo",
        "outputId": "a86aaab9-34a0-4887-df0b-d8518a091ac4"
      },
      "source": [
        "img1_quantized = np.array(img1_vector, dtype='int32')\n",
        "img1_quantized"
      ],
      "execution_count": null,
      "outputs": [
        {
          "output_type": "execute_result",
          "data": {
            "text/plain": [
              "array([[125, 254],\n",
              "       [ 64,  84]], dtype=int32)"
            ]
          },
          "metadata": {},
          "execution_count": 43
        }
      ]
    },
    {
      "cell_type": "markdown",
      "metadata": {
        "id": "NY2uePQzs9gZ"
      },
      "source": [
        "### *Time Complexity*\n",
        "\n",
        "If you would recall back in your data structures and algorithms this pertains to the Big-O notation. However, in this notebook, we’ll look into specific and intuitive samples of time complexity. We are going to look at specific AI use such as the concept of vectorization."
      ]
    },
    {
      "cell_type": "code",
      "metadata": {
        "id": "5WlqePejs10Z",
        "colab": {
          "base_uri": "https://localhost:8080/"
        },
        "outputId": "a0d85cf4-9d35-4a6f-c69a-da0761f008e2"
      },
      "source": [
        "## The following code wil try to optimize getting unique elements from the given\n",
        "## list of class codes\n",
        "\n",
        "curr_2018_courses = ['220', '270', '318', '450', '101', '768', '223L', '223',\n",
        "                     '727', '418', '673', '672', '450', '124', '771', '654',\n",
        "                     '231', '768', '768', '224', '654', '673']\n",
        "### print an array that shows only the unique elements\n",
        "### Code from Geeks for Geeks\n",
        "def unique(arr):\n",
        "     # initialize a null list\n",
        "    unique_list = []\n",
        "     \n",
        "    # traverse for all elements\n",
        "    for item in arr:\n",
        "        # check if exists in unique_list or not\n",
        "        if item not in unique_list:\n",
        "            unique_list.append(item)\n",
        "    return sorted(unique_list)\n",
        "\n",
        "unique(curr_2018_courses)  "
      ],
      "execution_count": null,
      "outputs": [
        {
          "output_type": "execute_result",
          "data": {
            "text/plain": [
              "['101',\n",
              " '124',\n",
              " '220',\n",
              " '223',\n",
              " '223L',\n",
              " '224',\n",
              " '231',\n",
              " '270',\n",
              " '318',\n",
              " '418',\n",
              " '450',\n",
              " '654',\n",
              " '672',\n",
              " '673',\n",
              " '727',\n",
              " '768',\n",
              " '771']"
            ]
          },
          "metadata": {},
          "execution_count": 44
        }
      ]
    },
    {
      "cell_type": "code",
      "metadata": {
        "id": "G0bFhzBfGz75",
        "colab": {
          "base_uri": "https://localhost:8080/"
        },
        "outputId": "a4b6df6d-9597-4144-a73b-3c58cce334f2"
      },
      "source": [
        "### Optimized way\n",
        "sorted(list(set(curr_2018_courses)))"
      ],
      "execution_count": null,
      "outputs": [
        {
          "output_type": "execute_result",
          "data": {
            "text/plain": [
              "['101',\n",
              " '124',\n",
              " '220',\n",
              " '223',\n",
              " '223L',\n",
              " '224',\n",
              " '231',\n",
              " '270',\n",
              " '318',\n",
              " '418',\n",
              " '450',\n",
              " '654',\n",
              " '672',\n",
              " '673',\n",
              " '727',\n",
              " '768',\n",
              " '771']"
            ]
          },
          "metadata": {},
          "execution_count": 45
        }
      ]
    },
    {
      "cell_type": "code",
      "metadata": {
        "colab": {
          "base_uri": "https://localhost:8080/"
        },
        "id": "8qQsScWhUybw",
        "outputId": "ff53ae3c-255e-4346-ad10-5953a1db898d"
      },
      "source": [
        "### Optimizing Functions\n",
        "import math\n",
        "def get_floor_binlog(num):\n",
        "  return math.floor(math.log2(num))\n",
        "get_floor_binlog(31)"
      ],
      "execution_count": null,
      "outputs": [
        {
          "output_type": "execute_result",
          "data": {
            "text/plain": [
              "4"
            ]
          },
          "metadata": {},
          "execution_count": 46
        }
      ]
    },
    {
      "cell_type": "code",
      "metadata": {
        "colab": {
          "base_uri": "https://localhost:8080/"
        },
        "id": "6atMBkMBWRP7",
        "outputId": "4e44e392-e03d-43f4-8cbc-4d9f36230fc0"
      },
      "source": [
        "### Lambda Functions\n",
        "binlog = lambda num: math.floor(math.log2(num))\n",
        "binlog(31)"
      ],
      "execution_count": null,
      "outputs": [
        {
          "output_type": "execute_result",
          "data": {
            "text/plain": [
              "4"
            ]
          },
          "metadata": {},
          "execution_count": 47
        }
      ]
    },
    {
      "cell_type": "code",
      "metadata": {
        "id": "ugT6Y-zBWjqD"
      },
      "source": [
        "### Optimizing Booleans\n",
        "val = 1\n",
        "if val%2 == 0:\n",
        "  val = 1\n",
        "else:\n",
        "  val = 2"
      ],
      "execution_count": null,
      "outputs": []
    },
    {
      "cell_type": "code",
      "metadata": {
        "colab": {
          "base_uri": "https://localhost:8080/"
        },
        "id": "uH-xQX6zUyqK",
        "outputId": "7f12dbe2-65e1-43c6-d99d-0280efa0215a"
      },
      "source": [
        "### Singe-line Boolean Statemets\n",
        "val = 1\n",
        "val = 1 if val%2 == 0 else 2\n",
        "val"
      ],
      "execution_count": null,
      "outputs": [
        {
          "output_type": "execute_result",
          "data": {
            "text/plain": [
              "2"
            ]
          },
          "metadata": {},
          "execution_count": 49
        }
      ]
    },
    {
      "cell_type": "code",
      "metadata": {
        "colab": {
          "base_uri": "https://localhost:8080/"
        },
        "id": "WTU6lB6CXCIQ",
        "outputId": "6f444aaa-c0e7-4b48-a0c2-009c235a99fd"
      },
      "source": [
        "### Optimizing Iterations\n",
        "bits = [1,0,1,1,1]\n",
        "not_bits = []\n",
        "for bit in bits:\n",
        "  not_bits.append(int(not(bit)))\n",
        "print(not_bits)"
      ],
      "execution_count": null,
      "outputs": [
        {
          "output_type": "stream",
          "name": "stdout",
          "text": [
            "[0, 1, 0, 0, 0]\n"
          ]
        }
      ]
    },
    {
      "cell_type": "code",
      "metadata": {
        "colab": {
          "base_uri": "https://localhost:8080/"
        },
        "id": "g9Z2mzLzVNVi",
        "outputId": "a7a4f050-1d53-402e-eddf-299c00590fee"
      },
      "source": [
        "### List Comprehensions\n",
        "bits = [1,0,1,0,1]\n",
        "not_bits = [int(not(bit)) for bit in bits]\n",
        "not_bits"
      ],
      "execution_count": null,
      "outputs": [
        {
          "output_type": "execute_result",
          "data": {
            "text/plain": [
              "[0, 1, 0, 1, 0]"
            ]
          },
          "metadata": {},
          "execution_count": 51
        }
      ]
    },
    {
      "cell_type": "code",
      "metadata": {
        "colab": {
          "base_uri": "https://localhost:8080/"
        },
        "id": "W9y04uVjYInF",
        "outputId": "0fdf0aa9-46be-489b-ad54-e874e56ee121"
      },
      "source": [
        "### A Networks Example\n",
        "def get_floor_binlog(num):\n",
        "  return math.floor(math.log2(num))\n",
        "def get_subnet_bits(user_count):\n",
        "  \n",
        "  floor_bin = get_floor_binlog(user_count) # gets the floor bits from \n",
        "                                           # the user count\n",
        "  if floor_bin == 0: # assign 1 if bit count is 0.\n",
        "    floor_bin = 1\n",
        "  bits = [] # instantiate the bit container\n",
        "  for i in range(floor_bin): # add a bit to the list of bits according to the\n",
        "                             # bit count.\n",
        "    bits.append(1) \n",
        "  return bits\n",
        "\n",
        "get_subnet_bits(32)"
      ],
      "execution_count": null,
      "outputs": [
        {
          "output_type": "execute_result",
          "data": {
            "text/plain": [
              "[1, 1, 1, 1, 1]"
            ]
          },
          "metadata": {},
          "execution_count": 52
        }
      ]
    },
    {
      "cell_type": "code",
      "metadata": {
        "colab": {
          "base_uri": "https://localhost:8080/"
        },
        "id": "c1U3rj0iZvx5",
        "outputId": "f7569f4f-630a-4129-a296-8da398804879"
      },
      "source": [
        "#### An Optimized Networks Example\n",
        "floor_bin = lambda num: math.floor(math.log2(num))\n",
        "\n",
        "def get_subnet_bits(user_count):\n",
        "  \n",
        "  nbits = floor_bin(user_count) # gets the floor bits from the user count\n",
        "  nbits = 1 if nbits==0 else nbits # assign 1 if bit count is 0.\n",
        "  bits = [1 for i in range(nbits)] # add a bit to the list of bits according \n",
        "                                   # to the bit count.\n",
        "  return bits\n",
        "\n",
        "get_subnet_bits(32)"
      ],
      "execution_count": null,
      "outputs": [
        {
          "output_type": "execute_result",
          "data": {
            "text/plain": [
              "[1, 1, 1, 1, 1]"
            ]
          },
          "metadata": {},
          "execution_count": 53
        }
      ]
    },
    {
      "cell_type": "code",
      "metadata": {
        "id": "COZLgumcIJ2u"
      },
      "source": [
        "## The following code wil try to optimize solving for the inner product of two\n",
        "## lists\n",
        "vectA = [1,2,3,1,-1,2]\n",
        "vectB = [-1,4,5,3,2,0]"
      ],
      "execution_count": null,
      "outputs": []
    },
    {
      "cell_type": "code",
      "metadata": {
        "colab": {
          "base_uri": "https://localhost:8080/"
        },
        "id": "8490guPfF1iy",
        "outputId": "28654e18-b286-4019-d8bb-810a66e1b899"
      },
      "source": [
        "def inner_product(vect1, vect2):\n",
        "  result = 0 \n",
        "  for va,vb in zip(vectA, vectB):\n",
        "    result += va*vb\n",
        "  return result\n",
        "inner_product(vectA, vectB)"
      ],
      "execution_count": null,
      "outputs": [
        {
          "output_type": "execute_result",
          "data": {
            "text/plain": [
              "23"
            ]
          },
          "metadata": {},
          "execution_count": 55
        }
      ]
    },
    {
      "cell_type": "code",
      "metadata": {
        "colab": {
          "base_uri": "https://localhost:8080/"
        },
        "id": "qiNiZnFQJcC5",
        "outputId": "4afa5e42-c693-4b40-9809-6b12182f787f"
      },
      "source": [
        "## Optimized method\n",
        "np.array(vectA) @ np.array(vectB) "
      ],
      "execution_count": null,
      "outputs": [
        {
          "output_type": "execute_result",
          "data": {
            "text/plain": [
              "23"
            ]
          },
          "metadata": {},
          "execution_count": 56
        }
      ]
    },
    {
      "cell_type": "markdown",
      "metadata": {
        "id": "23uTdW9eTTsC"
      },
      "source": [
        "### Task 3: Advanced Class Functions\n",
        "1. Optimize `get_grades()` by eliminating for loops in your function.\n",
        "2. Create a function named `get_similar_students()`\n",
        "  \n",
        "  `inputs`: two (2) class `DataFrames`\n",
        "  \n",
        "  `outputs`: list of common student numbers.\n",
        "\n",
        "  *Note*: The function should not contain iterative code blocks (i.e. `for` or `while` loops, or list comprehension)"
      ]
    },
    {
      "cell_type": "code",
      "metadata": {
        "colab": {
          "base_uri": "https://localhost:8080/",
          "height": 173
        },
        "id": "0sQ7qs3hDoq7",
        "outputId": "4e282592-3524-4b14-96e5-57f22a76afaa"
      },
      "source": [
        "student_num=[201814079, 201811675, 201822222, 201823333]\n",
        "lnames = [\"Dela Cruz\", \"Dela Pena\", \"Del Rosario\", \"Del Monte\"]\n",
        "fnames = [\"Juan\", \"Niel\", \"John\", \"Pina\"]\n",
        "p_grades = [80.5, 97.1, 90.1, 70.3]\n",
        "m_grades = [83.5, 80.8, 79.9, 60]\n",
        "f_grades = [96.3, 92.2, 60.2, 69]\n",
        "\n",
        "class_grades1 = {\"student_number\":student_num, \"last_name\": lnames, \"first_name\": fnames, \"prelim_grade\":p_grades, \"midterm_grade\": m_grades, \"final_grade\": f_grades}\n",
        "class_grades1_df = pd.DataFrame(class_grades1)\n",
        "class_grades1_df"
      ],
      "execution_count": null,
      "outputs": [
        {
          "output_type": "execute_result",
          "data": {
            "text/html": [
              "<div>\n",
              "<style scoped>\n",
              "    .dataframe tbody tr th:only-of-type {\n",
              "        vertical-align: middle;\n",
              "    }\n",
              "\n",
              "    .dataframe tbody tr th {\n",
              "        vertical-align: top;\n",
              "    }\n",
              "\n",
              "    .dataframe thead th {\n",
              "        text-align: right;\n",
              "    }\n",
              "</style>\n",
              "<table border=\"1\" class=\"dataframe\">\n",
              "  <thead>\n",
              "    <tr style=\"text-align: right;\">\n",
              "      <th></th>\n",
              "      <th>student_number</th>\n",
              "      <th>last_name</th>\n",
              "      <th>first_name</th>\n",
              "      <th>prelim_grade</th>\n",
              "      <th>midterm_grade</th>\n",
              "      <th>final_grade</th>\n",
              "    </tr>\n",
              "  </thead>\n",
              "  <tbody>\n",
              "    <tr>\n",
              "      <th>0</th>\n",
              "      <td>201814079</td>\n",
              "      <td>Dela Cruz</td>\n",
              "      <td>Juan</td>\n",
              "      <td>80.5</td>\n",
              "      <td>83.5</td>\n",
              "      <td>96.3</td>\n",
              "    </tr>\n",
              "    <tr>\n",
              "      <th>1</th>\n",
              "      <td>201811675</td>\n",
              "      <td>Dela Pena</td>\n",
              "      <td>Niel</td>\n",
              "      <td>97.1</td>\n",
              "      <td>80.8</td>\n",
              "      <td>92.2</td>\n",
              "    </tr>\n",
              "    <tr>\n",
              "      <th>2</th>\n",
              "      <td>201822222</td>\n",
              "      <td>Del Rosario</td>\n",
              "      <td>John</td>\n",
              "      <td>90.1</td>\n",
              "      <td>79.9</td>\n",
              "      <td>60.2</td>\n",
              "    </tr>\n",
              "    <tr>\n",
              "      <th>3</th>\n",
              "      <td>201823333</td>\n",
              "      <td>Del Monte</td>\n",
              "      <td>Pina</td>\n",
              "      <td>70.3</td>\n",
              "      <td>60.0</td>\n",
              "      <td>69.0</td>\n",
              "    </tr>\n",
              "  </tbody>\n",
              "</table>\n",
              "</div>"
            ],
            "text/plain": [
              "   student_number    last_name  ... midterm_grade  final_grade\n",
              "0       201814079    Dela Cruz  ...          83.5         96.3\n",
              "1       201811675    Dela Pena  ...          80.8         92.2\n",
              "2       201822222  Del Rosario  ...          79.9         60.2\n",
              "3       201823333    Del Monte  ...          60.0         69.0\n",
              "\n",
              "[4 rows x 6 columns]"
            ]
          },
          "metadata": {},
          "execution_count": 262
        }
      ]
    },
    {
      "cell_type": "code",
      "metadata": {
        "id": "nGO2PPWcRTV7"
      },
      "source": [
        "def get_grades(grade_sheet):\n",
        "    grade_sheet[\"semestral_grade\"] = grade_sheet[\"prelim_grade\"] * 0.3 + grade_sheet[\"midterm_grade\"] * 0.3 + grade_sheet[\"final_grade\"] * 0.4\n",
        "    return grade_sheet"
      ],
      "execution_count": null,
      "outputs": []
    },
    {
      "cell_type": "code",
      "metadata": {
        "colab": {
          "base_uri": "https://localhost:8080/",
          "height": 173
        },
        "id": "ozThamErRrMf",
        "outputId": "5412bfec-5981-4d1e-eb3d-1050aca53593"
      },
      "source": [
        "get_grades(class_grades_df)"
      ],
      "execution_count": null,
      "outputs": [
        {
          "output_type": "execute_result",
          "data": {
            "text/html": [
              "<div>\n",
              "<style scoped>\n",
              "    .dataframe tbody tr th:only-of-type {\n",
              "        vertical-align: middle;\n",
              "    }\n",
              "\n",
              "    .dataframe tbody tr th {\n",
              "        vertical-align: top;\n",
              "    }\n",
              "\n",
              "    .dataframe thead th {\n",
              "        text-align: right;\n",
              "    }\n",
              "</style>\n",
              "<table border=\"1\" class=\"dataframe\">\n",
              "  <thead>\n",
              "    <tr style=\"text-align: right;\">\n",
              "      <th></th>\n",
              "      <th>student_number</th>\n",
              "      <th>last_name</th>\n",
              "      <th>first_name</th>\n",
              "      <th>prelim_grade</th>\n",
              "      <th>midterm_grade</th>\n",
              "      <th>final_grade</th>\n",
              "      <th>semestral_grade</th>\n",
              "    </tr>\n",
              "  </thead>\n",
              "  <tbody>\n",
              "    <tr>\n",
              "      <th>0</th>\n",
              "      <td>201811454</td>\n",
              "      <td>David</td>\n",
              "      <td>Ed</td>\n",
              "      <td>80.5</td>\n",
              "      <td>86.8</td>\n",
              "      <td>90.2</td>\n",
              "      <td>86.27</td>\n",
              "    </tr>\n",
              "    <tr>\n",
              "      <th>1</th>\n",
              "      <td>201811675</td>\n",
              "      <td>De Guzman</td>\n",
              "      <td>Karl</td>\n",
              "      <td>87.4</td>\n",
              "      <td>83.2</td>\n",
              "      <td>90.2</td>\n",
              "      <td>87.26</td>\n",
              "    </tr>\n",
              "    <tr>\n",
              "      <th>2</th>\n",
              "      <td>201811345</td>\n",
              "      <td>Gamban</td>\n",
              "      <td>Lino</td>\n",
              "      <td>90.1</td>\n",
              "      <td>87.8</td>\n",
              "      <td>92.1</td>\n",
              "      <td>90.21</td>\n",
              "    </tr>\n",
              "    <tr>\n",
              "      <th>3</th>\n",
              "      <td>201811145</td>\n",
              "      <td>Lachica</td>\n",
              "      <td>Khent</td>\n",
              "      <td>87.4</td>\n",
              "      <td>83.2</td>\n",
              "      <td>90.2</td>\n",
              "      <td>87.26</td>\n",
              "    </tr>\n",
              "  </tbody>\n",
              "</table>\n",
              "</div>"
            ],
            "text/plain": [
              "   student_number  last_name  ... final_grade  semestral_grade\n",
              "0       201811454      David  ...        90.2            86.27\n",
              "1       201811675  De Guzman  ...        90.2            87.26\n",
              "2       201811345     Gamban  ...        92.1            90.21\n",
              "3       201811145    Lachica  ...        90.2            87.26\n",
              "\n",
              "[4 rows x 7 columns]"
            ]
          },
          "metadata": {},
          "execution_count": 246
        }
      ]
    },
    {
      "cell_type": "code",
      "metadata": {
        "id": "4Os1ra3kVD1S"
      },
      "source": [
        "def get_similar_students(grade_sheet, grade_sheet1):\n",
        "    Merge_list = pd.merge(grade_sheet, grade_sheet1, how='inner', left_on='student_number', right_on='student_number')\n",
        "    student_no = Merge_list['student_number']\n",
        "    return student_no"
      ],
      "execution_count": null,
      "outputs": []
    },
    {
      "cell_type": "code",
      "metadata": {
        "colab": {
          "base_uri": "https://localhost:8080/"
        },
        "id": "iDwyh4-vFJbX",
        "outputId": "08992ef8-47ac-408c-959a-bed2e8b17581"
      },
      "source": [
        "get_similar_students(class_grades_df, class_grades1_df)"
      ],
      "execution_count": null,
      "outputs": [
        {
          "output_type": "execute_result",
          "data": {
            "text/plain": [
              "0    201811675\n",
              "Name: student_number, dtype: int64"
            ]
          },
          "metadata": {},
          "execution_count": 211
        }
      ]
    },
    {
      "cell_type": "markdown",
      "metadata": {
        "id": "mJoJ5ZjbKWFt"
      },
      "source": [
        "# 2. Some Object-Oriented Programming Concepts\n",
        "\n",
        "Object-oriented programming (OOP) is undoubtedly a foundational programming course for Software Engineering. The idea of OOP is to transform procedural programming into a more modular programming style. In this section, we are going to review the fundamentals of OOP such as objects, classes, and encapsulation."
      ]
    },
    {
      "cell_type": "markdown",
      "metadata": {
        "id": "5yuIoWHU1_0v"
      },
      "source": [
        "## 2.1 Objects and Classes\n",
        "Learning about objects and classes is one of the foundations of OOP. Think of objects as any object that you could see. Like cars, shirts, humans, professions, even your favorite anime characters. Classes on the other hand are the categories or concepts of those things. In this section, we’ll review how to instantiate classes and objects."
      ]
    },
    {
      "cell_type": "markdown",
      "metadata": {
        "id": "90KYzkth2VLX"
      },
      "source": [
        "### *Attributes and Methods*\n",
        "Just like any object are just things we could describe them or they could have what we call descriptions or characteristics. In OOP we call these attributes. Attributes can be any value representing an aspect of the object which is inclusive to its concept of class. For example, a tree (object)  under the category of plants (class) could have attributes such as its name, age, height, or even the amount of oxygen it produces.\n",
        "\n",
        "Methods, on the other hand, are interactions that could be done by the object or could be done onto the object. For example for our tree, it could grow, photosynthesize, absorb water, or we could harvest its fruits. In this example, we can try to review the attributes and methods of a class or object."
      ]
    },
    {
      "cell_type": "code",
      "metadata": {
        "id": "xguJ6ns5pVfc"
      },
      "source": [
        "'''\n",
        "    CASE 4: Class of Classes\n",
        "\n",
        "    For this section we are going to look at implementing the fundamentals of\n",
        "    OOP for our class routines.\n",
        "'''\n",
        "class Section:\n",
        "  def __init__(self, max_pop, class_list):\n",
        "    self.max_pop = max_pop\n",
        "    self.class_list = class_list\n",
        "  \n",
        "  def count_class(self):\n",
        "    return len(self.class_list)\n",
        "\n",
        "  def is_overloaded(self):\n",
        "    is_overload = True if self.count_class() > self.max_pop else False\n",
        "    return is_overload"
      ],
      "execution_count": null,
      "outputs": []
    },
    {
      "cell_type": "markdown",
      "metadata": {
        "id": "mF2MlzFv2ZQw"
      },
      "source": [
        "### *Class Instantiation*\n",
        "Now that we have created our class let’s try to put them to use in code. To use classes and objects in your code we are going to instantiate them. There are several ways to instantiate an object and we will be trying them out in this section."
      ]
    },
    {
      "cell_type": "code",
      "metadata": {
        "id": "8kJC6vsWpTET",
        "colab": {
          "base_uri": "https://localhost:8080/"
        },
        "outputId": "684f76e4-c102-476b-c5da-4095c1da8dc8"
      },
      "source": [
        "CpE_58053 = Section(40, ['John'])\n",
        "print(CpE_58053.is_overloaded())\n",
        "print(CpE_58053.count_class())"
      ],
      "execution_count": null,
      "outputs": [
        {
          "output_type": "stream",
          "name": "stdout",
          "text": [
            "False\n",
            "1\n"
          ]
        }
      ]
    },
    {
      "cell_type": "markdown",
      "metadata": {
        "id": "mhDqZEML3hRf"
      },
      "source": [
        "## 2.2 Encapsulation\n",
        "The idea of incapsulation is to restrict users or developers from using or tampering with the internal attributes or methods of a class. This would be similar to using the private or public property in Java, C++, or C#. Python also enforces this in programming but in a different way. \n",
        "\n",
        "Not every procedure or transaction in a class should be shown to the users. We used the concept of encapsulation to solve this. In Python, all attributes, variables, or methods are public by default. In this section, we will see how to make methods and attributes private."
      ]
    },
    {
      "cell_type": "code",
      "metadata": {
        "id": "uGGueFuLpSDk"
      },
      "source": [
        "class Section:\n",
        "  def __init__(self, max_pop, class_list):\n",
        "    self.max_pop = max_pop\n",
        "    self.class_list = class_list\n",
        "  \n",
        "  def __count_class(self):\n",
        "    return len(self.class_list)\n",
        "\n",
        "  def is_overloaded(self):\n",
        "    is_overload = True if self.__count_class() > self.max_pop else False\n",
        "    return is_overload"
      ],
      "execution_count": null,
      "outputs": []
    },
    {
      "cell_type": "code",
      "metadata": {
        "id": "cJai7CiAeZPj",
        "colab": {
          "base_uri": "https://localhost:8080/",
          "height": 214
        },
        "outputId": "38ec0ec4-bfc7-4919-b822-3555fededc06"
      },
      "source": [
        "CpE_58054 = Section(2, ['Jeanne', 'Pietro', 'Dude'])\n",
        "print(CpE_58054.is_overloaded())\n",
        "print(CpE_58054.__count_class())"
      ],
      "execution_count": null,
      "outputs": [
        {
          "output_type": "stream",
          "name": "stdout",
          "text": [
            "True\n"
          ]
        },
        {
          "output_type": "error",
          "ename": "AttributeError",
          "evalue": "ignored",
          "traceback": [
            "\u001b[0;31m---------------------------------------------------------------------------\u001b[0m",
            "\u001b[0;31mAttributeError\u001b[0m                            Traceback (most recent call last)",
            "\u001b[0;32m<ipython-input-65-ef1a6593cb70>\u001b[0m in \u001b[0;36m<module>\u001b[0;34m()\u001b[0m\n\u001b[1;32m      1\u001b[0m \u001b[0mCpE_58054\u001b[0m \u001b[0;34m=\u001b[0m \u001b[0mSection\u001b[0m\u001b[0;34m(\u001b[0m\u001b[0;36m2\u001b[0m\u001b[0;34m,\u001b[0m \u001b[0;34m[\u001b[0m\u001b[0;34m'Jeanne'\u001b[0m\u001b[0;34m,\u001b[0m \u001b[0;34m'Pietro'\u001b[0m\u001b[0;34m,\u001b[0m \u001b[0;34m'Dude'\u001b[0m\u001b[0;34m]\u001b[0m\u001b[0;34m)\u001b[0m\u001b[0;34m\u001b[0m\u001b[0;34m\u001b[0m\u001b[0m\n\u001b[1;32m      2\u001b[0m \u001b[0mprint\u001b[0m\u001b[0;34m(\u001b[0m\u001b[0mCpE_58054\u001b[0m\u001b[0;34m.\u001b[0m\u001b[0mis_overloaded\u001b[0m\u001b[0;34m(\u001b[0m\u001b[0;34m)\u001b[0m\u001b[0;34m)\u001b[0m\u001b[0;34m\u001b[0m\u001b[0;34m\u001b[0m\u001b[0m\n\u001b[0;32m----> 3\u001b[0;31m \u001b[0mprint\u001b[0m\u001b[0;34m(\u001b[0m\u001b[0mCpE_58054\u001b[0m\u001b[0;34m.\u001b[0m\u001b[0m__count_class\u001b[0m\u001b[0;34m(\u001b[0m\u001b[0;34m)\u001b[0m\u001b[0;34m)\u001b[0m\u001b[0;34m\u001b[0m\u001b[0;34m\u001b[0m\u001b[0m\n\u001b[0m",
            "\u001b[0;31mAttributeError\u001b[0m: 'Section' object has no attribute '__count_class'"
          ]
        }
      ]
    },
    {
      "cell_type": "markdown",
      "metadata": {
        "id": "Kp9E7V_ZgNmz"
      },
      "source": [
        "### Task 4: Class of Classes\n",
        "1. Modify the `class` `Section` and integrate the functions from Tasks 1 to 3 as its methods. Make sure that the codes are optimized.\n",
        "2. Create a `method` named `get_failed()` wherein it will create a list of all the failed students in the class.\n",
        "3. Create a `method` named `fail_count()` wherein it will return the count of the failed students.\n",
        "\n",
        "** **Note:** due to data privacy, the data privacy office has mandated your code to print the names of the failed students as well as to mask the names of the students if their grades are also displayed."
      ]
    },
    {
      "cell_type": "markdown",
      "metadata": {
        "id": "5lOOjYyQCoWZ"
      },
      "source": [
        ""
      ]
    },
    {
      "cell_type": "code",
      "metadata": {
        "colab": {
          "base_uri": "https://localhost:8080/",
          "height": 173
        },
        "id": "QH0rhIUGQ2FL",
        "outputId": "6a6dbe3c-94c9-42cd-e5ae-7824d6851135"
      },
      "source": [
        "get_grades(class_grades1_df)"
      ],
      "execution_count": null,
      "outputs": [
        {
          "output_type": "execute_result",
          "data": {
            "text/html": [
              "<div>\n",
              "<style scoped>\n",
              "    .dataframe tbody tr th:only-of-type {\n",
              "        vertical-align: middle;\n",
              "    }\n",
              "\n",
              "    .dataframe tbody tr th {\n",
              "        vertical-align: top;\n",
              "    }\n",
              "\n",
              "    .dataframe thead th {\n",
              "        text-align: right;\n",
              "    }\n",
              "</style>\n",
              "<table border=\"1\" class=\"dataframe\">\n",
              "  <thead>\n",
              "    <tr style=\"text-align: right;\">\n",
              "      <th></th>\n",
              "      <th>student_number</th>\n",
              "      <th>last_name</th>\n",
              "      <th>first_name</th>\n",
              "      <th>prelim_grade</th>\n",
              "      <th>midterm_grade</th>\n",
              "      <th>final_grade</th>\n",
              "      <th>semestral_grade</th>\n",
              "    </tr>\n",
              "  </thead>\n",
              "  <tbody>\n",
              "    <tr>\n",
              "      <th>0</th>\n",
              "      <td>201814079</td>\n",
              "      <td>Dela Cruz</td>\n",
              "      <td>Juan</td>\n",
              "      <td>80.5</td>\n",
              "      <td>83.5</td>\n",
              "      <td>96.3</td>\n",
              "      <td>87.72</td>\n",
              "    </tr>\n",
              "    <tr>\n",
              "      <th>1</th>\n",
              "      <td>201811675</td>\n",
              "      <td>Dela Pena</td>\n",
              "      <td>Niel</td>\n",
              "      <td>97.1</td>\n",
              "      <td>80.8</td>\n",
              "      <td>92.2</td>\n",
              "      <td>90.25</td>\n",
              "    </tr>\n",
              "    <tr>\n",
              "      <th>2</th>\n",
              "      <td>201822222</td>\n",
              "      <td>Del Rosario</td>\n",
              "      <td>John</td>\n",
              "      <td>90.1</td>\n",
              "      <td>79.9</td>\n",
              "      <td>60.2</td>\n",
              "      <td>75.08</td>\n",
              "    </tr>\n",
              "    <tr>\n",
              "      <th>3</th>\n",
              "      <td>201823333</td>\n",
              "      <td>Del Monte</td>\n",
              "      <td>Pina</td>\n",
              "      <td>70.3</td>\n",
              "      <td>60.0</td>\n",
              "      <td>69.0</td>\n",
              "      <td>66.69</td>\n",
              "    </tr>\n",
              "  </tbody>\n",
              "</table>\n",
              "</div>"
            ],
            "text/plain": [
              "   student_number    last_name  ... final_grade  semestral_grade\n",
              "0       201814079    Dela Cruz  ...        96.3            87.72\n",
              "1       201811675    Dela Pena  ...        92.2            90.25\n",
              "2       201822222  Del Rosario  ...        60.2            75.08\n",
              "3       201823333    Del Monte  ...        69.0            66.69\n",
              "\n",
              "[4 rows x 7 columns]"
            ]
          },
          "metadata": {},
          "execution_count": 264
        }
      ]
    },
    {
      "cell_type": "code",
      "metadata": {
        "id": "vpDE-npFgNBe"
      },
      "source": [
        "class Section:\n",
        "  def __init__(self, grade_sheet, grade_sheet1):\n",
        "    self.class_list = grade_sheet\n",
        "    self.class_list1 = grade_sheet1\n",
        "  \n",
        "  def get_grades(self):\n",
        "    self.class_list[\"semestral_grade\"] = self.class_list[\"prelim_grade\"] * 0.3 + self.class_list[\"midterm_grade\"] * 0.3 + self.class_list[\"final_grade\"] * 0.4\n",
        "\n",
        "  def get_class_stats(self):\n",
        "    lowest_grades = self.class_list[[\"prelim_grade\", \"midterm_grade\", \"final_grade\", \"semestral_grade\"]].min()\n",
        "    highest_grades = self.class_list[[\"prelim_grade\", \"midterm_grade\", \"final_grade\", \"semestral_grade\"]].max()\n",
        "    mean_grades = self.class_list[[\"prelim_grade\", \"midterm_grade\", \"final_grade\", \"semestral_grade\"]].mean()\n",
        "    median_grades = self.class_list[[\"prelim_grade\", \"midterm_grade\", \"final_grade\", \"semestral_grade\"]].median()\n",
        "    std_grade = self.class_list[[\"prelim_grade\", \"midterm_grade\", \"final_grade\", \"semestral_grade\"]].std()\n",
        "    self.class_list = {\"lowest_grade\": lowest_grades, \"highest_grade\": highest_grades, \"mean_grade\": mean_grades,\"median_grade\": median_grades, \"standard_deviation\": std_grade }\n",
        "    return pd.DataFrame(self.class_list)\n",
        "\n",
        "  def get_similar_students(self):\n",
        "    Merge_list = pd.merge(self.class_list, self.class_list1, how='inner', left_on='student_number', right_on='student_number')\n",
        "    student_no = Merge_list['student_number']\n",
        "    return student_no\n",
        "\n",
        "  def get_failed(self):\n",
        "    failed = []\n",
        "    i=0\n",
        "    for grade in self.class_list1[\"semestral_grade\"]:\n",
        "      if grade < 70:\n",
        "        failed.append(self.class_list1[\"first_name\"][i] + \" \" + self.class_list1[\"last_name\"][i])\n",
        "        i=i+1\n",
        "    return failed\n",
        "\n",
        "  def fail_count(self):\n",
        "    failed = []\n",
        "    for grade in self.class_list1[\"semestral_grade\"]:\n",
        "      if grade < 70:\n",
        "        failed.append(grade)\n",
        "    print(\"Number of failed students: \", len(failed))\n",
        "\n",
        "\n"
      ],
      "execution_count": null,
      "outputs": []
    },
    {
      "cell_type": "code",
      "metadata": {
        "id": "UBeelRSlH17z"
      },
      "source": [
        "section_class = Section(class_grades_df, class_grades1_df)\n",
        "section_class.get_grades()"
      ],
      "execution_count": null,
      "outputs": []
    },
    {
      "cell_type": "code",
      "metadata": {
        "colab": {
          "base_uri": "https://localhost:8080/",
          "height": 173
        },
        "id": "sjY-XWaqIoMb",
        "outputId": "d961e483-0a2d-48e8-8fb8-57a7b9e52d58"
      },
      "source": [
        "section_class.get_class_stats()"
      ],
      "execution_count": null,
      "outputs": [
        {
          "output_type": "execute_result",
          "data": {
            "text/html": [
              "<div>\n",
              "<style scoped>\n",
              "    .dataframe tbody tr th:only-of-type {\n",
              "        vertical-align: middle;\n",
              "    }\n",
              "\n",
              "    .dataframe tbody tr th {\n",
              "        vertical-align: top;\n",
              "    }\n",
              "\n",
              "    .dataframe thead th {\n",
              "        text-align: right;\n",
              "    }\n",
              "</style>\n",
              "<table border=\"1\" class=\"dataframe\">\n",
              "  <thead>\n",
              "    <tr style=\"text-align: right;\">\n",
              "      <th></th>\n",
              "      <th>lowest_grade</th>\n",
              "      <th>highest_grade</th>\n",
              "      <th>mean_grade</th>\n",
              "      <th>median_grade</th>\n",
              "      <th>standard_deviation</th>\n",
              "    </tr>\n",
              "  </thead>\n",
              "  <tbody>\n",
              "    <tr>\n",
              "      <th>prelim_grade</th>\n",
              "      <td>80.50</td>\n",
              "      <td>90.10</td>\n",
              "      <td>86.350</td>\n",
              "      <td>87.40</td>\n",
              "      <td>4.102438</td>\n",
              "    </tr>\n",
              "    <tr>\n",
              "      <th>midterm_grade</th>\n",
              "      <td>83.20</td>\n",
              "      <td>87.80</td>\n",
              "      <td>85.250</td>\n",
              "      <td>85.00</td>\n",
              "      <td>2.402082</td>\n",
              "    </tr>\n",
              "    <tr>\n",
              "      <th>final_grade</th>\n",
              "      <td>90.20</td>\n",
              "      <td>92.10</td>\n",
              "      <td>90.675</td>\n",
              "      <td>90.20</td>\n",
              "      <td>0.950000</td>\n",
              "    </tr>\n",
              "    <tr>\n",
              "      <th>semestral_grade</th>\n",
              "      <td>86.27</td>\n",
              "      <td>90.21</td>\n",
              "      <td>87.750</td>\n",
              "      <td>87.26</td>\n",
              "      <td>1.705110</td>\n",
              "    </tr>\n",
              "  </tbody>\n",
              "</table>\n",
              "</div>"
            ],
            "text/plain": [
              "                 lowest_grade  highest_grade  ...  median_grade  standard_deviation\n",
              "prelim_grade            80.50          90.10  ...         87.40            4.102438\n",
              "midterm_grade           83.20          87.80  ...         85.00            2.402082\n",
              "final_grade             90.20          92.10  ...         90.20            0.950000\n",
              "semestral_grade         86.27          90.21  ...         87.26            1.705110\n",
              "\n",
              "[4 rows x 5 columns]"
            ]
          },
          "metadata": {},
          "execution_count": 286
        }
      ]
    },
    {
      "cell_type": "code",
      "metadata": {
        "colab": {
          "base_uri": "https://localhost:8080/"
        },
        "id": "scoyb7fNKll2",
        "outputId": "6e59e429-d066-40b2-d118-817654a8fd06"
      },
      "source": [
        "section_class = Section(class_grades_df, class_grades1_df)\n",
        "section_class.get_similar_students()"
      ],
      "execution_count": null,
      "outputs": [
        {
          "output_type": "execute_result",
          "data": {
            "text/plain": [
              "0    201811675\n",
              "Name: student_number, dtype: int64"
            ]
          },
          "metadata": {},
          "execution_count": 287
        }
      ]
    },
    {
      "cell_type": "code",
      "metadata": {
        "colab": {
          "base_uri": "https://localhost:8080/"
        },
        "id": "suuDCsR-NyGJ",
        "outputId": "6523655f-ee0a-46ac-9d98-bd2ec756b4e2"
      },
      "source": [
        "section_class = Section(class_grades_df, class_grades1_df)\n",
        "section_class.get_failed()"
      ],
      "execution_count": null,
      "outputs": [
        {
          "output_type": "execute_result",
          "data": {
            "text/plain": [
              "['Juan Dela Cruz']"
            ]
          },
          "metadata": {},
          "execution_count": 288
        }
      ]
    },
    {
      "cell_type": "code",
      "metadata": {
        "colab": {
          "base_uri": "https://localhost:8080/"
        },
        "id": "JoKq-tgySlnh",
        "outputId": "ca7c97f6-5073-4c83-b159-2b346dd375c3"
      },
      "source": [
        "section_class.fail_count()"
      ],
      "execution_count": null,
      "outputs": [
        {
          "output_type": "stream",
          "name": "stdout",
          "text": [
            "Number of failed students:  1\n"
          ]
        }
      ]
    },
    {
      "cell_type": "markdown",
      "metadata": {
        "id": "UA_rrYvEihQ9"
      },
      "source": [
        "\n",
        "\n",
        "---\n",
        "**END OF LABORATORY**\n",
        "\n",
        "---\n"
      ]
    }
  ]
}