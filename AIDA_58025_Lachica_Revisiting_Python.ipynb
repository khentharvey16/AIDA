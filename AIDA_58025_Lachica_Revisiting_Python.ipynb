{
  "nbformat": 4,
  "nbformat_minor": 0,
  "metadata": {
    "colab": {
      "name": "AIDA  58025 Lachica - Revisiting Python.ipynb",
      "provenance": [],
      "authorship_tag": "ABX9TyP8osdnx40kqZxfnIf3lood",
      "include_colab_link": true
    },
    "kernelspec": {
      "name": "python3",
      "display_name": "Python 3"
    }
  },
  "cells": [
    {
      "cell_type": "markdown",
      "metadata": {
        "id": "view-in-github",
        "colab_type": "text"
      },
      "source": [
        "<a href=\"https://colab.research.google.com/github/khentharvey16/AIDA/blob/main/AIDA_58025_Lachica_Revisiting_Python.ipynb\" target=\"_parent\"><img src=\"https://colab.research.google.com/assets/colab-badge.svg\" alt=\"Open In Colab\"/></a>"
      ]
    },
    {
      "cell_type": "markdown",
      "metadata": {
        "id": "z_gX2FU97urk"
      },
      "source": [
        "#Revisiting Python\r\n",
        "\r\n",
        "K.H. Lachica (2021) \r\n",
        "This notebook discusses the basic and intermediate Pythong coding principles and coding design."
      ]
    },
    {
      "cell_type": "markdown",
      "metadata": {
        "id": "qA76Vnxn8Ga9"
      },
      "source": [
        "#Part 1: Programming Logic and Design\r\n",
        "\r\n",
        "In this section, we will revisit Programming Logic and Design using the Python language.\r\n",
        "\r\n",
        "\r\n",
        "Discussions about Python"
      ]
    },
    {
      "cell_type": "code",
      "metadata": {
        "colab": {
          "base_uri": "https://localhost:8080/"
        },
        "id": "P96YH8jX9HhV",
        "outputId": "3f41bbf7-bfa6-48f5-b34a-ee511321dd47"
      },
      "source": [
        "x = 2\r\n",
        "#print(x)\r\n",
        "#print(\"The data type of x is \",type(x),\"and its value is\",x,\".\")\r\n",
        "#print(f\"The data type of x is {type(x)} and its value is {x}.\")\r\n",
        "print(\"The data type of x is {} and its value is {}\".format(type(x),x))"
      ],
      "execution_count": 8,
      "outputs": [
        {
          "output_type": "stream",
          "text": [
            "The data type of x is <class 'int'> and its value is 2.\n",
            "The data type of x is <class 'int'> and its value is 2\n"
          ],
          "name": "stdout"
        }
      ]
    },
    {
      "cell_type": "markdown",
      "metadata": {
        "id": "IgXVw29D8Ub8"
      },
      "source": [
        "#Part 2: Object-Oriented Programming"
      ]
    },
    {
      "cell_type": "markdown",
      "metadata": {
        "id": "KTojh3jz8X10"
      },
      "source": [
        "#Part 3: "
      ]
    },
    {
      "cell_type": "code",
      "metadata": {
        "id": "7hUFSgxF6MBO"
      },
      "source": [
        ""
      ],
      "execution_count": 1,
      "outputs": []
    }
  ]
}